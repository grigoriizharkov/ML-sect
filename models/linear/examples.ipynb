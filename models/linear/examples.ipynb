{
 "cells": [
  {
   "cell_type": "code",
   "execution_count": 43,
   "id": "eaf6e1e6-361c-4832-b3e2-bc40e22d1dad",
   "metadata": {},
   "outputs": [],
   "source": [
    "from regression import *\n",
    "from sklearn.datasets import load_diabetes\n",
    "from sklearn.model_selection import train_test_split\n",
    "from sklearn.metrics import mean_squared_error\n",
    "\n",
    "import matplotlib.pyplot as plt\n",
    "import numpy as np\n",
    "np.random.seed(0)\n",
    "\n",
    "X, y = load_diabetes(return_X_y=True)\n",
    "X_train, X_test, y_train, y_test = train_test_split(X, y, random_state=0)"
   ]
  },
  {
   "cell_type": "code",
   "execution_count": 11,
   "id": "bbca4514-6dc8-4141-99cd-a25c19aeaf13",
   "metadata": {},
   "outputs": [
    {
     "name": "stdout",
     "output_type": "stream",
     "text": [
      "4455.887964777993\n"
     ]
    }
   ],
   "source": [
    "lr = LinearRegression(gradient=True)\n",
    "lr.fit(X_train, y_train)\n",
    "print(mean_squared_error(y_test, lr.predict(X_test)))"
   ]
  },
  {
   "cell_type": "code",
   "execution_count": 10,
   "id": "869b75df-3530-4692-abed-5a072923ef73",
   "metadata": {},
   "outputs": [
    {
     "name": "stdout",
     "output_type": "stream",
     "text": [
      "4934.151347342292\n"
     ]
    }
   ],
   "source": [
    "ridge = Ridge(alpha=1, gradient=True)\n",
    "ridge.fit(X_train, y_train)\n",
    "print(mean_squared_error(y_test, ridge.predict(X_test)))"
   ]
  },
  {
   "cell_type": "code",
   "execution_count": 12,
   "id": "f85bb3b9-81e6-41ad-99da-667fed6df14c",
   "metadata": {},
   "outputs": [
    {
     "name": "stdout",
     "output_type": "stream",
     "text": [
      "4737.228357165928\n"
     ]
    }
   ],
   "source": [
    "lasso = Lasso(alpha=1, gradient=True)\n",
    "lasso.fit(X_train, y_train)\n",
    "print(mean_squared_error(y_test, lasso.predict(X_test)))"
   ]
  },
  {
   "cell_type": "code",
   "execution_count": 44,
   "id": "22480373-5dc1-4e4b-9f98-ce7b33e3d575",
   "metadata": {},
   "outputs": [],
   "source": [
    "def f(x):\n",
    "    return 3 * x + np.random.normal(0, 10)\n",
    "\n",
    "X = np.vstack(np.linspace(-10, 10, 100))\n",
    "y = [f(x) for x in X]"
   ]
  },
  {
   "cell_type": "code",
   "execution_count": 45,
   "id": "464e2dfa-a955-464f-8e65-755bc881d8f0",
   "metadata": {},
   "outputs": [
    {
     "data": {
      "text/plain": [
       "array([[2.85133657],\n",
       "       [0.59808016]])"
      ]
     },
     "execution_count": 45,
     "metadata": {},
     "output_type": "execute_result"
    }
   ],
   "source": [
    "lr = LinearRegression(gradient=False)\n",
    "lr.fit(X, y)"
   ]
  },
  {
   "cell_type": "code",
   "execution_count": 52,
   "id": "ab81500a-bcab-4c86-bf47-06793bdd0a21",
   "metadata": {},
   "outputs": [
    {
     "data": {
      "text/plain": [
       "array([2.76988548, 2.67904581])"
      ]
     },
     "execution_count": 52,
     "metadata": {},
     "output_type": "execute_result"
    }
   ],
   "source": [
    "ridge = Ridge(alpha=1, gradient=True)\n",
    "ridge.fit(X, y)"
   ]
  },
  {
   "cell_type": "code",
   "execution_count": 53,
   "id": "d3f154ba-7d46-4c09-8186-3b70ec0bf615",
   "metadata": {},
   "outputs": [
    {
     "data": {
      "text/plain": [
       "array([ 2.55727716, -0.61125111])"
      ]
     },
     "execution_count": 53,
     "metadata": {},
     "output_type": "execute_result"
    }
   ],
   "source": [
    "lasso = Lasso(alpha=10, gradient=True)\n",
    "lasso.fit(X, y)"
   ]
  },
  {
   "cell_type": "code",
   "execution_count": 54,
   "id": "6b581ed3-044f-4e36-b784-7d7efcfd8277",
   "metadata": {},
   "outputs": [
    {
     "data": {
      "image/png": "[encoded data removed]",
      "text/plain": [
       "<Figure size 432x288 with 1 Axes>"
      ]
     },
     "metadata": {
      "needs_background": "light"
     },
     "output_type": "display_data"
    }
   ],
   "source": [
    "fig, ax = plt.subplots()\n",
    "ax.scatter(X, y)\n",
    "ax.plot(X, lr.coef_[0] * X + lr.coef_[1], color='orange', linewidth=2)\n",
    "ax.plot(X, ridge.coef_[0] * X + ridge.coef_[1], color='red', linewidth=2)\n",
    "ax.plot(X, lasso.coef_[0] * X + lasso.coef_[1], color='green', linewidth=2)\n",
    "ax.grid()"
   ]
  }
 ],
 "metadata": {
  "kernelspec": {
   "display_name": "Python 3",
   "language": "python",
   "name": "python3"
  },
  "language_info": {
   "codemirror_mode": {
    "name": "ipython",
    "version": 3
   },
   "file_extension": ".py",
   "mimetype": "text/x-python",
   "name": "python",
   "nbconvert_exporter": "python",
   "pygments_lexer": "ipython3",
   "version": "3.8.8"
  }
 },
 "nbformat": 4,
 "nbformat_minor": 5
}
