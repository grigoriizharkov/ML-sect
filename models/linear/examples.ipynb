{
 "cells": [
  {
   "cell_type": "code",
   "execution_count": 1,
   "id": "eaf6e1e6-361c-4832-b3e2-bc40e22d1dad",
   "metadata": {},
   "outputs": [],
   "source": [
    "from regression import *\n",
    "from sklearn.datasets import load_diabetes\n",
    "from sklearn.model_selection import train_test_split\n",
    "from sklearn.metrics import mean_squared_error\n",
    "\n",
    "import matplotlib.pyplot as plt\n",
    "import numpy as np\n",
    "np.random.seed(0)\n",
    "\n",
    "X, y = load_diabetes(return_X_y=True)\n",
    "X_train, X_test, y_train, y_test = train_test_split(X, y, random_state=0)"
   ]
  },
  {
   "cell_type": "code",
   "execution_count": 2,
   "id": "bbca4514-6dc8-4141-99cd-a25c19aeaf13",
   "metadata": {},
   "outputs": [
    {
     "name": "stdout",
     "output_type": "stream",
     "text": [
      "4455.887964777993\n"
     ]
    }
   ],
   "source": [
    "lr = LinearRegression(gradient=True)\n",
    "lr.fit(X_train, y_train)\n",
    "print(mean_squared_error(y_test, lr.predict(X_test)))"
   ]
  },
  {
   "cell_type": "code",
   "execution_count": 3,
   "id": "869b75df-3530-4692-abed-5a072923ef73",
   "metadata": {},
   "outputs": [
    {
     "name": "stdout",
     "output_type": "stream",
     "text": [
      "4934.151347342292\n"
     ]
    }
   ],
   "source": [
    "ridge = Ridge(alpha=1, gradient=True)\n",
    "ridge.fit(X_train, y_train)\n",
    "print(mean_squared_error(y_test, ridge.predict(X_test)))"
   ]
  },
  {
   "cell_type": "code",
   "execution_count": 4,
   "id": "f85bb3b9-81e6-41ad-99da-667fed6df14c",
   "metadata": {},
   "outputs": [
    {
     "name": "stdout",
     "output_type": "stream",
     "text": [
      "4737.228357165928\n"
     ]
    }
   ],
   "source": [
    "lasso = Lasso(alpha=1, gradient=True)\n",
    "lasso.fit(X_train, y_train)\n",
    "print(mean_squared_error(y_test, lasso.predict(X_test)))"
   ]
  },
  {
   "cell_type": "code",
   "execution_count": 12,
   "id": "22480373-5dc1-4e4b-9f98-ce7b33e3d575",
   "metadata": {},
   "outputs": [],
   "source": [
    "def f(x):\n",
    "    return 3 * np.sin(x) + x + 10 + np.random.normal(0, 2)\n",
    "\n",
    "X = np.vstack(np.linspace(-10, 10, 100))\n",
    "sinx = np.vstack(np.sin(X))\n",
    "y = [f(x) for x in X]"
   ]
  },
  {
   "cell_type": "code",
   "execution_count": 13,
   "id": "f2dccf3e-d4db-4c71-a130-078527a57964",
   "metadata": {},
   "outputs": [],
   "source": [
    "x = np.concatenate((X, sinx), axis=1)"
   ]
  },
  {
   "cell_type": "code",
   "execution_count": 14,
   "id": "464e2dfa-a955-464f-8e65-755bc881d8f0",
   "metadata": {},
   "outputs": [
    {
     "data": {
      "text/plain": [
       "array([[ 0.95227653],\n",
       "       [ 2.52336116],\n",
       "       [10.16402594]])"
      ]
     },
     "execution_count": 14,
     "metadata": {},
     "output_type": "execute_result"
    }
   ],
   "source": [
    "lr = LinearRegression(gradient=False)\n",
    "lr.fit(x, y)"
   ]
  },
  {
   "cell_type": "code",
   "execution_count": 15,
   "id": "ab81500a-bcab-4c86-bf47-06793bdd0a21",
   "metadata": {},
   "outputs": [
    {
     "data": {
      "text/plain": [
       "array([0.95938536, 0.85190509, 9.08192328])"
      ]
     },
     "execution_count": 15,
     "metadata": {},
     "output_type": "execute_result"
    }
   ],
   "source": [
    "ridge = Ridge(alpha=1, gradient=True)\n",
    "ridge.fit(x, y)"
   ]
  },
  {
   "cell_type": "code",
   "execution_count": 20,
   "id": "d3f154ba-7d46-4c09-8186-3b70ec0bf615",
   "metadata": {},
   "outputs": [
    {
     "data": {
      "text/plain": [
       "array([0.91348262, 2.93235658, 9.49531819])"
      ]
     },
     "execution_count": 20,
     "metadata": {},
     "output_type": "execute_result"
    }
   ],
   "source": [
    "lasso = Lasso(alpha=1, gradient=True)\n",
    "lasso.fit(x, y)"
   ]
  },
  {
   "cell_type": "code",
   "execution_count": 23,
   "id": "6b581ed3-044f-4e36-b784-7d7efcfd8277",
   "metadata": {},
   "outputs": [
    {
     "data": {
      "image/png": "[encoded data removed]",
      "text/plain": [
       "<Figure size 432x288 with 1 Axes>"
      ]
     },
     "metadata": {
      "needs_background": "light"
     },
     "output_type": "display_data"
    }
   ],
   "source": [
    "fig, ax = plt.subplots()\n",
    "ax.scatter(X, y)\n",
    "ax.plot(X, lr.coef_[0] * X + lr.coef_[1] * np.sin(X) + lr.coef_[2], color='orange', linewidth=2)\n",
    "ax.plot(X, ridge.coef_[0] * X + ridge.coef_[1] * np.sin(X) + ridge.coef_[2], color='red', linewidth=2)\n",
    "ax.plot(X, lasso.coef_[0] * X + lasso.coef_[1] * np.sin(X) + lasso.coef_[2], color='green', linewidth=2)\n",
    "ax.grid()"
   ]
  }
 ],
 "metadata": {
  "kernelspec": {
   "display_name": "Python 3",
   "language": "python",
   "name": "python3"
  },
  "language_info": {
   "codemirror_mode": {
    "name": "ipython",
    "version": 3
   },
   "file_extension": ".py",
   "mimetype": "text/x-python",
   "name": "python",
   "nbconvert_exporter": "python",
   "pygments_lexer": "ipython3",
   "version": "3.8.8"
  }
 },
 "nbformat": 4,
 "nbformat_minor": 5
}
